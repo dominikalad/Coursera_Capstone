{
 "cells": [
  {
   "cell_type": "markdown",
   "metadata": {},
   "source": [
    "# Capstone Data Science Project - with Foursquare API"
   ]
  },
  {
   "cell_type": "markdown",
   "metadata": {},
   "source": [
    "## Introduction/Business Problem\n",
    "\n",
    "Although modern vegan and vegetarian cuisine already is and becomes more popular in San Diego, CA, it seems like there is still much space for fine-dining plant-based restaurants and that some areas in San Diego County could be a good pick for embodying that idea.\n",
    "\n",
    "The purpose of that project is to analyze chosen areas in San Diego County to find out where it could be a best choice to open upscale vegetarian/vegan restaurant.\n",
    "\n",
    "While exploring in search for a good area to start that kind of business we consider:\n",
    "+ amount of restaurants nearby\n",
    "+ amount of vegetarian/vegan restaurants nearby\n",
    "+ median household income in the neighborhood\n",
    "+ distance from the main street/central area or other interesting attractions"
   ]
  },
  {
   "cell_type": "markdown",
   "metadata": {},
   "source": [
    "## Data\n",
    "\n",
    "Following resourses will be used to extract informations needed:\n",
    "\n",
    "+ **Google Maps API geocoding** to find geolocations of points of interests \n",
    "+ **Foursquare API** for exploring neighborhoods, their venues, restaurants and attractions\n",
    "+ **Median Household Income for San Diego County from the Census Bureau from datausa.io** website - csv including census geoid and median household income\n",
    "+ **FCC Api** to convert geolocations to census geoid, to extract neighborhoods of interests from the Median Household Income csv\n"
   ]
  },
  {
   "cell_type": "code",
   "execution_count": null,
   "metadata": {},
   "outputs": [],
   "source": []
  }
 ],
 "metadata": {
  "kernelspec": {
   "display_name": "Python 3",
   "language": "python",
   "name": "python3"
  },
  "language_info": {
   "codemirror_mode": {
    "name": "ipython",
    "version": 3
   },
   "file_extension": ".py",
   "mimetype": "text/x-python",
   "name": "python",
   "nbconvert_exporter": "python",
   "pygments_lexer": "ipython3",
   "version": "3.7.4"
  }
 },
 "nbformat": 4,
 "nbformat_minor": 2
}
