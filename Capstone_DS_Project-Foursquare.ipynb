{
 "cells": [
  {
   "cell_type": "markdown",
   "metadata": {},
   "source": [
    "# Capstone Data Science Project - with Foursquare API"
   ]
  },
  {
   "cell_type": "markdown",
   "metadata": {},
   "source": [
    "## Introduction/Business Problem\n",
    "\n",
    "Although modern vegan and vegetarian cuisine already is and becomes more popular in San Diego, CA, it seems like there is still much space for fine-dining plant-based restaurants and that some areas in San Diego County could be a good pick for embodying that idea.\n",
    "\n",
    "The purpose of that project is to analyze chosen areas in San Diego County to find out where it could be a best choice to open upscale vegetarian/vegan restaurant.\n",
    "\n",
    "While exploring in search for a good area to start that kind of business we consider:\n",
    "+ amount of restaurants nearby\n",
    "+ amount of vegetarian/vegan restaurants nearby\n",
    "+ median household income in the neighborhood\n",
    "+ distance from the main street/central area or other interesting attractions"
   ]
  },
  {
   "cell_type": "markdown",
   "metadata": {},
   "source": [
    "## Data\n",
    "\n",
    "Following resourses will be used to extract informations needed:\n",
    "\n",
    "+ **Google Maps API geocoding** to find geolocations of points of interests \n",
    "+ **Foursquare API** for exploring neighborhoods, their venues, restaurants and attractions\n",
    "+ **Median Household Income for San Diego County from the Census Bureau from datausa.io** website - csv including census geoid and median household income\n",
    "+ **FCC Api** to convert geolocations to census geoid, to extract neighborhoods of interests from the Median Household Income csv\n"
   ]
  },
  {
   "cell_type": "code",
   "execution_count": 4,
   "metadata": {},
   "outputs": [],
   "source": [
    "areas = ['West F Street, Encinitas, California',\n",
    "'13th St, Del Mar, California',\n",
    "'Girard Avenue, Village of La Jolla, California',\n",
    "'Mission Blvd, Pacific Beach, California',\n",
    "'University Av, Hillcrest, San Diego, California',\n",
    "'Orange Ave, Coronado, California',\n",
    "'North Park Way, North Park, San Diego, California',\n",
    "'Rosecrans St, Point Loma, San Diego, California',\n",
    "'Plaza St, Solana Beach, California',\n",
    "'300 Mission Ave, Oceanside, California',\n",
    "'600 Carlsbad Village Drive, Carlsbad, California']"
   ]
  },
  {
   "cell_type": "code",
   "execution_count": 24,
   "metadata": {},
   "outputs": [],
   "source": [
    "import requests\n",
    "import pandas as pd"
   ]
  },
  {
   "cell_type": "code",
   "execution_count": 2,
   "metadata": {},
   "outputs": [],
   "source": [
    "GOOGLE_API_KEY=''"
   ]
  },
  {
   "cell_type": "code",
   "execution_count": 70,
   "metadata": {},
   "outputs": [],
   "source": [
    "neighborhoods = pd.DataFrame({'col1': [], 'col2': [], 'col3': [], 'col4': [], 'col5': [], 'col6': [], 'col7': [], 'lat': [], 'lng': []})    "
   ]
  },
  {
   "cell_type": "code",
   "execution_count": 71,
   "metadata": {},
   "outputs": [],
   "source": [
    "def get_coords(areas, neighborhoods):\n",
    "    for area in areas:\n",
    "        url = 'https://maps.googleapis.com/maps/api/geocode/json?key={}&address={}'.format(GOOGLE_API_KEY, area)\n",
    "        response = requests.get(url).json()\n",
    "        zipcode = response['results'][0]['address_components'][5]['short_name'] if len(response['results'][0]['address_components']) < 7 else response['results'][0]['address_components'][6]['short_name'] \n",
    "        neighborhoods = neighborhoods.append({\n",
    "            'col1': response['results'][0]['address_components'][0]['short_name'],\n",
    "            'col2': response['results'][0]['address_components'][1]['short_name'],\n",
    "            'col3': response['results'][0]['address_components'][2]['short_name'],\n",
    "            'col4': response['results'][0]['address_components'][3]['short_name'],\n",
    "            'col5': response['results'][0]['address_components'][4]['short_name'],\n",
    "            'col6': response['results'][0]['address_components'][5]['short_name'],\n",
    "            'col7': zipcode,\n",
    "            'lat': response['results'][0]['geometry']['location']['lat'],\n",
    "            'lng': response['results'][0]['geometry']['location']['lng']\n",
    "        }, ignore_index=True)\n",
    "    return neighborhoods "
   ]
  },
  {
   "cell_type": "code",
   "execution_count": 72,
   "metadata": {},
   "outputs": [],
   "source": [
    "df_neighborhoods = get_coords(areas, neighborhoods)"
   ]
  },
  {
   "cell_type": "code",
   "execution_count": 74,
   "metadata": {},
   "outputs": [],
   "source": [
    "df_neighborhoods.drop(['col6', 'col5'], axis=1, inplace=True)"
   ]
  },
  {
   "cell_type": "code",
   "execution_count": 93,
   "metadata": {},
   "outputs": [],
   "source": [
    "df_neighborhoods.iat[9, 0] = '300 Mission Ave'\n",
    "df_neighborhoods.iat[9, 1] = 'Oceanside'\n",
    "df_neighborhoods.iat[10, 0] = '600 Carlsbad Village Dr'\n",
    "df_neighborhoods.iat[10, 1] = 'Carlsbad'"
   ]
  },
  {
   "cell_type": "code",
   "execution_count": 95,
   "metadata": {},
   "outputs": [],
   "source": [
    "df_neighborhoods.drop(['col3', 'col4'], axis=1, inplace=True)"
   ]
  },
  {
   "cell_type": "code",
   "execution_count": 99,
   "metadata": {},
   "outputs": [],
   "source": [
    "df_neighborhoods.rename(columns={'col1': 'street', 'col2': 'neigborhood', 'col7': 'zipcode'}, inplace=True)"
   ]
  },
  {
   "cell_type": "code",
   "execution_count": 100,
   "metadata": {},
   "outputs": [
    {
     "data": {
      "text/html": [
       "<div>\n",
       "<style scoped>\n",
       "    .dataframe tbody tr th:only-of-type {\n",
       "        vertical-align: middle;\n",
       "    }\n",
       "\n",
       "    .dataframe tbody tr th {\n",
       "        vertical-align: top;\n",
       "    }\n",
       "\n",
       "    .dataframe thead th {\n",
       "        text-align: right;\n",
       "    }\n",
       "</style>\n",
       "<table border=\"1\" class=\"dataframe\">\n",
       "  <thead>\n",
       "    <tr style=\"text-align: right;\">\n",
       "      <th></th>\n",
       "      <th>street</th>\n",
       "      <th>neigborhood</th>\n",
       "      <th>zipcode</th>\n",
       "      <th>lat</th>\n",
       "      <th>lng</th>\n",
       "    </tr>\n",
       "  </thead>\n",
       "  <tbody>\n",
       "    <tr>\n",
       "      <th>0</th>\n",
       "      <td>W F St</td>\n",
       "      <td>Encinitas</td>\n",
       "      <td>92024</td>\n",
       "      <td>33.043216</td>\n",
       "      <td>-117.294944</td>\n",
       "    </tr>\n",
       "    <tr>\n",
       "      <th>1</th>\n",
       "      <td>13th St</td>\n",
       "      <td>Del Mar</td>\n",
       "      <td>92014</td>\n",
       "      <td>32.957393</td>\n",
       "      <td>-117.265067</td>\n",
       "    </tr>\n",
       "    <tr>\n",
       "      <th>2</th>\n",
       "      <td>Girard Ave</td>\n",
       "      <td>Village of La Jolla</td>\n",
       "      <td>92037</td>\n",
       "      <td>32.843179</td>\n",
       "      <td>-117.273384</td>\n",
       "    </tr>\n",
       "    <tr>\n",
       "      <th>3</th>\n",
       "      <td>Mission Blvd</td>\n",
       "      <td>Pacific Beach</td>\n",
       "      <td>92109</td>\n",
       "      <td>32.793680</td>\n",
       "      <td>-117.254593</td>\n",
       "    </tr>\n",
       "    <tr>\n",
       "      <th>4</th>\n",
       "      <td>University Ave</td>\n",
       "      <td>Hillcrest</td>\n",
       "      <td>US</td>\n",
       "      <td>32.748499</td>\n",
       "      <td>-117.154809</td>\n",
       "    </tr>\n",
       "    <tr>\n",
       "      <th>5</th>\n",
       "      <td>Orange Ave</td>\n",
       "      <td>Coronado</td>\n",
       "      <td>92118</td>\n",
       "      <td>32.690154</td>\n",
       "      <td>-117.177271</td>\n",
       "    </tr>\n",
       "    <tr>\n",
       "      <th>6</th>\n",
       "      <td>North Park Way</td>\n",
       "      <td>North Park</td>\n",
       "      <td>92104</td>\n",
       "      <td>32.747411</td>\n",
       "      <td>-117.127709</td>\n",
       "    </tr>\n",
       "    <tr>\n",
       "      <th>7</th>\n",
       "      <td>Rosecrans St</td>\n",
       "      <td>Point Loma</td>\n",
       "      <td>US</td>\n",
       "      <td>32.724732</td>\n",
       "      <td>-117.229103</td>\n",
       "    </tr>\n",
       "    <tr>\n",
       "      <th>8</th>\n",
       "      <td>Plaza St</td>\n",
       "      <td>Solana Beach</td>\n",
       "      <td>92075</td>\n",
       "      <td>32.991698</td>\n",
       "      <td>-117.272541</td>\n",
       "    </tr>\n",
       "    <tr>\n",
       "      <th>9</th>\n",
       "      <td>300 Mission Ave</td>\n",
       "      <td>Oceanside</td>\n",
       "      <td>US</td>\n",
       "      <td>33.195067</td>\n",
       "      <td>-117.381072</td>\n",
       "    </tr>\n",
       "    <tr>\n",
       "      <th>10</th>\n",
       "      <td>600 Carlsbad Village Dr</td>\n",
       "      <td>Carlsbad</td>\n",
       "      <td>92008</td>\n",
       "      <td>33.160211</td>\n",
       "      <td>-117.347692</td>\n",
       "    </tr>\n",
       "  </tbody>\n",
       "</table>\n",
       "</div>"
      ],
      "text/plain": [
       "                     street          neigborhood zipcode        lat  \\\n",
       "0                    W F St            Encinitas   92024  33.043216   \n",
       "1                   13th St              Del Mar   92014  32.957393   \n",
       "2                Girard Ave  Village of La Jolla   92037  32.843179   \n",
       "3              Mission Blvd        Pacific Beach   92109  32.793680   \n",
       "4            University Ave            Hillcrest      US  32.748499   \n",
       "5                Orange Ave             Coronado   92118  32.690154   \n",
       "6            North Park Way           North Park   92104  32.747411   \n",
       "7              Rosecrans St           Point Loma      US  32.724732   \n",
       "8                  Plaza St         Solana Beach   92075  32.991698   \n",
       "9           300 Mission Ave            Oceanside      US  33.195067   \n",
       "10  600 Carlsbad Village Dr             Carlsbad   92008  33.160211   \n",
       "\n",
       "           lng  \n",
       "0  -117.294944  \n",
       "1  -117.265067  \n",
       "2  -117.273384  \n",
       "3  -117.254593  \n",
       "4  -117.154809  \n",
       "5  -117.177271  \n",
       "6  -117.127709  \n",
       "7  -117.229103  \n",
       "8  -117.272541  \n",
       "9  -117.381072  \n",
       "10 -117.347692  "
      ]
     },
     "execution_count": 100,
     "metadata": {},
     "output_type": "execute_result"
    }
   ],
   "source": [
    "df_neighborhoods"
   ]
  },
  {
   "cell_type": "code",
   "execution_count": null,
   "metadata": {},
   "outputs": [],
   "source": []
  }
 ],
 "metadata": {
  "kernelspec": {
   "display_name": "Python 3",
   "language": "python",
   "name": "python3"
  },
  "language_info": {
   "codemirror_mode": {
    "name": "ipython",
    "version": 3
   },
   "file_extension": ".py",
   "mimetype": "text/x-python",
   "name": "python",
   "nbconvert_exporter": "python",
   "pygments_lexer": "ipython3",
   "version": "3.7.4"
  }
 },
 "nbformat": 4,
 "nbformat_minor": 2
}
